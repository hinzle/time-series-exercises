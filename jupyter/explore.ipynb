{
 "cells": [
  {
   "cell_type": "code",
   "execution_count": 3,
   "metadata": {},
   "outputs": [
    {
     "name": "stderr",
     "output_type": "stream",
     "text": [
      "Intel(R) Extension for Scikit-learn* enabled (https://github.com/intel/scikit-learn-intelex)\n",
      "Intel(R) Extension for Scikit-learn* enabled (https://github.com/intel/scikit-learn-intelex)\n"
     ]
    }
   ],
   "source": [
    "import sys\n",
    "sys.path.insert(0, '/Users/hinzlehome/codeup-data-science/time-series-exercises/')\n",
    "from utils.imports import *\n",
    "from utils.acquire import *\n",
    "from utils.prepare import *"
   ]
  },
  {
   "cell_type": "code",
   "execution_count": 8,
   "metadata": {},
   "outputs": [],
   "source": [
    "# plotting defaults\n",
    "plt.rc('figure', figsize=(16, 9))\n",
    "plt.style.use('seaborn-darkgrid')\n",
    "plt.rc('font', size=16)\n",
    "\n",
    "# plt.style.available\n",
    "# ^^^ show available seaborn styles"
   ]
  },
  {
   "cell_type": "code",
   "execution_count": 14,
   "metadata": {},
   "outputs": [
    {
     "name": "stdout",
     "output_type": "stream",
     "text": [
      "cached csv\n",
      "cached csv\n",
      "cached csv\n"
     ]
    }
   ],
   "source": [
    "store=merge_on_sales()\n",
    "store = prep_store_data(store)"
   ]
  },
  {
   "cell_type": "code",
   "execution_count": 9,
   "metadata": {},
   "outputs": [
    {
     "name": "stdout",
     "output_type": "stream",
     "text": [
      "<class 'pandas.core.frame.DataFrame'>\n",
      "DatetimeIndex: 913000 entries, 2013-01-01 to 2017-12-31\n",
      "Data columns (total 16 columns):\n",
      " #   Column         Non-Null Count   Dtype  \n",
      "---  ------         --------------   -----  \n",
      " 0   item_id        913000 non-null  int64  \n",
      " 1   quantity       913000 non-null  float64\n",
      " 2   sale_id        913000 non-null  int64  \n",
      " 3   store_id       913000 non-null  int64  \n",
      " 4   item_brand     913000 non-null  object \n",
      " 5   item_name      913000 non-null  object \n",
      " 6   item_price     913000 non-null  float64\n",
      " 7   item_upc12     913000 non-null  int64  \n",
      " 8   item_upc14     913000 non-null  int64  \n",
      " 9   store_address  913000 non-null  object \n",
      " 10  store_city     913000 non-null  object \n",
      " 11  store_state    913000 non-null  object \n",
      " 12  store_zipcode  913000 non-null  int64  \n",
      " 13  month          913000 non-null  int64  \n",
      " 14  dow            913000 non-null  object \n",
      " 15  sales_total    913000 non-null  float64\n",
      "dtypes: float64(3), int64(7), object(6)\n",
      "memory usage: 118.4+ MB\n"
     ]
    }
   ],
   "source": [
    "store.info(verbose=True,show_counts=True)"
   ]
  },
  {
   "cell_type": "code",
   "execution_count": 2,
   "metadata": {},
   "outputs": [
    {
     "ename": "NameError",
     "evalue": "name 'store' is not defined",
     "output_type": "error",
     "traceback": [
      "\u001b[0;31m---------------------------------------------------------------------------\u001b[0m",
      "\u001b[0;31mNameError\u001b[0m                                 Traceback (most recent call last)",
      "\u001b[1;32m/Users/hinzlehome/codeup-data-science/time-series-exercises/jupyter/explore.ipynb Cell 5'\u001b[0m in \u001b[0;36m<cell line: 1>\u001b[0;34m()\u001b[0m\n\u001b[0;32m----> <a href='vscode-notebook-cell:/Users/hinzlehome/codeup-data-science/time-series-exercises/jupyter/explore.ipynb#ch0000004?line=0'>1</a>\u001b[0m train \u001b[39m=\u001b[39m store\u001b[39m.\u001b[39mloc[:\u001b[39m'\u001b[39m\u001b[39m2015\u001b[39m\u001b[39m'\u001b[39m] \u001b[39m# includes 2016\u001b[39;00m\n\u001b[1;32m      <a href='vscode-notebook-cell:/Users/hinzlehome/codeup-data-science/time-series-exercises/jupyter/explore.ipynb#ch0000004?line=1'>2</a>\u001b[0m validate \u001b[39m=\u001b[39mstore\u001b[39m.\u001b[39mloc[\u001b[39m'\u001b[39m\u001b[39m2016\u001b[39m\u001b[39m'\u001b[39m] \n\u001b[1;32m      <a href='vscode-notebook-cell:/Users/hinzlehome/codeup-data-science/time-series-exercises/jupyter/explore.ipynb#ch0000004?line=2'>3</a>\u001b[0m test \u001b[39m=\u001b[39m store\u001b[39m.\u001b[39mloc[\u001b[39m'\u001b[39m\u001b[39m2017\u001b[39m\u001b[39m'\u001b[39m]\n",
      "\u001b[0;31mNameError\u001b[0m: name 'store' is not defined"
     ]
    }
   ],
   "source": [
    "train = store.loc[:'2015'] # includes 2016\n",
    "validate =store.loc['2016'] \n",
    "test = store.loc['2017']\n",
    "\n",
    "plt.plot(train.index, train.quantity)\n",
    "plt.plot(test.index, test.quantity)\n"
   ]
  },
  {
   "cell_type": "code",
   "execution_count": 1,
   "metadata": {},
   "outputs": [
    {
     "ename": "NameError",
     "evalue": "name 'train' is not defined",
     "output_type": "error",
     "traceback": [
      "\u001b[0;31m---------------------------------------------------------------------------\u001b[0m",
      "\u001b[0;31mNameError\u001b[0m                                 Traceback (most recent call last)",
      "\u001b[1;32m/Users/hinzlehome/codeup-data-science/time-series-exercises/jupyter/explore.ipynb Cell 6'\u001b[0m in \u001b[0;36m<cell line: 2>\u001b[0;34m()\u001b[0m\n\u001b[1;32m      <a href='vscode-notebook-cell:/Users/hinzlehome/codeup-data-science/time-series-exercises/jupyter/explore.ipynb#ch0000005?line=0'>1</a>\u001b[0m \u001b[39m# univariate analysis of columns:\u001b[39;00m\n\u001b[0;32m----> <a href='vscode-notebook-cell:/Users/hinzlehome/codeup-data-science/time-series-exercises/jupyter/explore.ipynb#ch0000005?line=1'>2</a>\u001b[0m \u001b[39mfor\u001b[39;00m col \u001b[39min\u001b[39;00m train\u001b[39m.\u001b[39mcolumns:\n\u001b[1;32m      <a href='vscode-notebook-cell:/Users/hinzlehome/codeup-data-science/time-series-exercises/jupyter/explore.ipynb#ch0000005?line=2'>3</a>\u001b[0m     \u001b[39mprint\u001b[39m(\u001b[39m'\u001b[39m\u001b[39mColumn: \u001b[39m\u001b[39m'\u001b[39m \u001b[39m+\u001b[39m col)\n\u001b[1;32m      <a href='vscode-notebook-cell:/Users/hinzlehome/codeup-data-science/time-series-exercises/jupyter/explore.ipynb#ch0000005?line=3'>4</a>\u001b[0m     plt\u001b[39m.\u001b[39mhist(train[col])\n",
      "\u001b[0;31mNameError\u001b[0m: name 'train' is not defined"
     ]
    }
   ],
   "source": [
    "# univariate analysis of columns:\n",
    "for col in train.columns:\n",
    "    print('Column: ' + col)\n",
    "    plt.hist(train[col])\n",
    "    plt.show()"
   ]
  },
  {
   "cell_type": "code",
   "execution_count": null,
   "metadata": {},
   "outputs": [],
   "source": [
    "# [sns.displot(store[col] ,kde = True, rug = True) for col in store.columns.to_list()]"
   ]
  },
  {
   "cell_type": "code",
   "execution_count": null,
   "metadata": {
    "tags": []
   },
   "outputs": [],
   "source": [
    "# [sns.relplot(x=store.index,y=col,data=store) for col in store.columns.to_list()]"
   ]
  },
  {
   "cell_type": "code",
   "execution_count": null,
   "metadata": {},
   "outputs": [],
   "source": [
    "sns.relplot(x=train.index, y='sales_total',data=train,aspect=1.5)"
   ]
  },
  {
   "cell_type": "code",
   "execution_count": null,
   "metadata": {},
   "outputs": [],
   "source": [
    "train.select_dtypes('number')"
   ]
  },
  {
   "cell_type": "code",
   "execution_count": null,
   "metadata": {},
   "outputs": [],
   "source": [
    "l=zip([1,2,3],['a','b','c'])"
   ]
  },
  {
   "cell_type": "code",
   "execution_count": null,
   "metadata": {},
   "outputs": [],
   "source": [
    "for x,y in zip(df.x, df.y):\n",
    "\tprint(x,y)\n",
    "\n"
   ]
  },
  {
   "cell_type": "code",
   "execution_count": null,
   "metadata": {},
   "outputs": [],
   "source": [
    "df=pd.DataFrame(data=(zip([1,2,3],['a','b','c'])))"
   ]
  },
  {
   "cell_type": "code",
   "execution_count": null,
   "metadata": {},
   "outputs": [],
   "source": [
    "df.columns=['x','y']"
   ]
  },
  {
   "cell_type": "code",
   "execution_count": null,
   "metadata": {},
   "outputs": [],
   "source": [
    "# for col in train.columns.to_list():\n",
    "#     if train[col].dtype\n",
    "\n",
    "target='store_id'\n",
    "periods = ['D', 'W', 'M','Q', 'Y']\n",
    "period_labels = ['Daily', 'Weekly', \n",
    "                 'Monthly', 'Quarterly', 'Yearly']\n",
    "                 \n",
    "alpha = .2\n",
    "for per, per_label in zip(periods, period_labels):\n",
    "    print(per,per_label)\n",
    "    alpha += .15\n",
    "    train[target].resample(per).mean().plot(alpha=alpha, \n",
    "                                            figsize=(12,8), \n",
    "                                            label=per_label)\n",
    "plt.title('Resampled Averages for Various Periods')\n",
    "plt.legend()\n",
    "plt.show()"
   ]
  }
 ],
 "metadata": {
  "interpreter": {
   "hash": "3067ead486e059ec00ffe7555bdb889e6e264a24dc711bf108106cc7baee8d5d"
  },
  "kernelspec": {
   "display_name": "Python 3 (ipykernel)",
   "language": "python",
   "name": "python3"
  },
  "language_info": {
   "codemirror_mode": {
    "name": "ipython",
    "version": 3
   },
   "file_extension": ".py",
   "mimetype": "text/x-python",
   "name": "python",
   "nbconvert_exporter": "python",
   "pygments_lexer": "ipython3",
   "version": "3.9.12"
  }
 },
 "nbformat": 4,
 "nbformat_minor": 4
}
